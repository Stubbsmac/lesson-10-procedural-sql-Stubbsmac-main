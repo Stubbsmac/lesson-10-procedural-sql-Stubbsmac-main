{
    "metadata": {
        "kernelspec": {
            "name": "SQL",
            "display_name": "SQL",
            "language": "sql"
        },
        "language_info": {
            "name": "sql",
            "version": ""
        }
    },
    "nbformat_minor": 2,
    "nbformat": 4,
    "cells": [
        {
            "cell_type": "markdown",
            "source": [
                "# **Procedural SQL**\n",
                "\n",
                "This notebook will cover procedural SQL topics such as stored procedures, functions, triggers, and views. These tools help automate tasks, ensure referential integrity, and retrieve processed data.\n",
                "\n",
                "## **Stored Procedures**\n",
                "\n",
                "A stored procedure is a set of SQL statements that can be executed as a single unit, kind of like a transaction. Stored procedures are stored in the database and can be invoked by name. They allow for modular, reusable, and maintainable code. In SQL Server, stored procedures can accept parameters, perform conditional logic, and return values. Let's start by creating a stored procedure that retrieves all records from the gs\\_products table in the guitar store database.\n",
                "\n",
                "To start we will use the key words CREATE PROCEDURE and then give the procedure a name. We specify the contents of the procedure using AS, and enclose the script of the procedure in BEGIN/END:"
            ],
            "metadata": {
                "azdata_cell_guid": "e43d6337-3d02-46e7-adf2-bc7d2216d909"
            },
            "attachments": {}
        },
        {
            "cell_type": "code",
            "source": [
                "--Create stored procedure to retrieve all records from gs_products\n",
                "CREATE PROCEDURE get_all_products\n",
                "AS\n",
                "BEGIN\n",
                "    SELECT * FROM gs_products\n",
                "END;"
            ],
            "metadata": {
                "azdata_cell_guid": "1b09389b-410e-46f6-a2e3-5fb33b647dc8",
                "language": "sql"
            },
            "outputs": [],
            "execution_count": null
        },
        {
            "cell_type": "markdown",
            "source": [
                "When we run the above command, the response indicates success, but there is no returned data. This is because we have not executed the procedure, we have just saved it in the database. In the connections pane (top left icon) follow these instructions:\n",
                "\n",
                "1. Expand the connected database so you can see it's folders\n",
                "2. Open the databases folder\n",
                "3. Navigate to your student database\n",
                "4. Open the Programmability folder\n",
                "5. Open the Stored Procedures folder\n",
                "\n",
                "After following the above steps you should see the procedure that we just created. It is important that you know where to find these in case you ever forget the name of a procedure. This procedure can be executed usin the EXEC keyword. Let's run it now:"
            ],
            "metadata": {
                "language": "sql",
                "azdata_cell_guid": "c3e92aa3-27d8-4406-81a3-65f8d9feeb02"
            },
            "attachments": {}
        },
        {
            "cell_type": "code",
            "source": [
                "--Execute get_all_products stored procedure\n",
                "EXEC get_all_products;"
            ],
            "metadata": {
                "language": "sql",
                "azdata_cell_guid": "988254e3-d90e-400f-9f6a-530959483c39"
            },
            "outputs": [],
            "execution_count": null
        },
        {
            "cell_type": "markdown",
            "source": [
                "We can see that the stored procedure executes the script that we saved earlier. This makes them useful for running repettive tasks or executing a SQL script from a different application. We can make our stored procedures more powerful by implementing _parameters_. Parameters are similar to variables. We can use them to store a value for use in the procedure. We instantiate them using the @ symbol and specifying their data type. We are going to create a new procedure that selects all products that have a list\\_price higher than the provided parameter."
            ],
            "metadata": {
                "language": "sql",
                "azdata_cell_guid": "b14ed557-3192-4ff4-85c9-850207e97511"
            },
            "attachments": {}
        },
        {
            "cell_type": "code",
            "source": [
                "--Create stored procedure to retrieve all records from gs_products with list_price higher than parameter\n",
                "CREATE PROCEDURE get_all_products_higher_than\n",
                "    @list_price_min DECIMAL\n",
                "AS\n",
                "BEGIN\n",
                "    SELECT *\n",
                "    FROM gs_products\n",
                "    WHERE list_price > @list_price_min\n",
                "END;"
            ],
            "metadata": {
                "language": "sql",
                "azdata_cell_guid": "b32e5180-c591-4737-b210-5a6afd246ce5"
            },
            "outputs": [],
            "execution_count": null
        },
        {
            "cell_type": "markdown",
            "source": [
                "Now that we have saved the procedure, we can execute it and provide a value for the parameter:"
            ],
            "metadata": {
                "azdata_cell_guid": "a05b7dc8-261e-4d02-9925-04343932e8ca"
            },
            "attachments": {}
        },
        {
            "cell_type": "code",
            "source": [
                "EXEC get_all_products_higher_than @list_price_min = 500"
            ],
            "metadata": {
                "azdata_cell_guid": "6bce124d-1379-423b-8251-2058f9752d8a",
                "language": "sql"
            },
            "outputs": [],
            "execution_count": null
        },
        {
            "cell_type": "markdown",
            "source": [
                "We can see that the procedure returns all products with a list\\_price higher than the value provided to the parameter. Try changing 500 to another value and re-running the cell. You can see that the return updates dynamically without any changes to the procedure itself.\n",
                "\n",
                "  \n",
                "\n",
                "Parameters make our scripts more powerful because they give us a way to make script that is flexible and dynamic without ever having to change the actual source script. When an application is interacting with a database it is typically calling a stored procedure and passing paramaters into it, not using full SQL scripts to make changes or selections.\n",
                "\n",
                "  \n",
                "\n",
                "We can also use parameters to return values when using a stored procedure. The below procedure returns the lowest priced product that is more expensive than the price passe din via parameter (if a customer wants to spend at least 500, but wants the cheapest item that is over 500 then we can get that). We do this by specifying that a parameter is for OUTPUT:"
            ],
            "metadata": {
                "language": "sql",
                "azdata_cell_guid": "90d7335d-615b-4257-9f14-8a22883cfbf7"
            },
            "attachments": {}
        },
        {
            "cell_type": "code",
            "source": [
                "--Create stored procedure to retrieve product from gs_products with lowest list_price higher than parameter\n",
                "CREATE PROCEDURE get_cheapest_product_higher_than\n",
                "    @list_price_min DECIMAL,\n",
                "    @product_name_cheap VARCHAR(50) OUTPUT --Specify parameter as an output\n",
                "AS\n",
                "BEGIN\n",
                "    --We specify the parameter in the select statement to setup the return\n",
                "    SELECT @product_name_cheap = product_name\n",
                "    FROM gs_products\n",
                "    WHERE list_price = (\n",
                "        --Subquery to get minimum price of product that is higher than provided price\n",
                "        --Making DISTINCT to ensure only one value is returned\n",
                "        SELECT DISTINCT MIN(list_price)\n",
                "        FROM gs_products\n",
                "        WHERE list_price > @list_price_min\n",
                "    )\n",
                "END;"
            ],
            "metadata": {
                "language": "sql",
                "azdata_cell_guid": "e4217ab7-7a79-4467-83ea-3b91fce070a6"
            },
            "outputs": [],
            "execution_count": null
        },
        {
            "cell_type": "markdown",
            "source": [
                "Now that the procedure has been saved we can execute it."
            ],
            "metadata": {
                "language": "sql",
                "azdata_cell_guid": "7e0b2408-f8dc-4663-baad-3989be132232"
            },
            "attachments": {}
        },
        {
            "cell_type": "code",
            "source": [
                "-- Declare a variable to hold the output parameter value\n",
                "DECLARE @product VARCHAR(50);\n",
                "\n",
                "--Execute the procedure\n",
                "EXEC get_cheapest_product_higher_than @list_price_min = 500, @product_name_cheap = @product OUTPUT;\n",
                "\n",
                "--Print the result\n",
                "PRINT @product;"
            ],
            "metadata": {
                "language": "sql",
                "azdata_cell_guid": "93709236-7959-4854-9e74-37e3b031a1e5"
            },
            "outputs": [],
            "execution_count": null
        },
        {
            "cell_type": "markdown",
            "source": [
                "Finally, we can write our stored procedures using conditional logic so that we can perform different actions based on the value of a parameter that has been passed in. Int he below example we are going to create a stored procedure that returns the name and price of a product based on the id number provided by the parameter. If the id number does not match one in the products table, then we will return an error. Otherwise, we will execute the procedure normally."
            ],
            "metadata": {
                "language": "sql",
                "azdata_cell_guid": "02525e79-d40e-4e3f-9bd7-4a001e421a80"
            },
            "attachments": {}
        },
        {
            "cell_type": "code",
            "source": [
                "--Create stored procedure to return name and price of product based on ID\n",
                "CREATE PROCEDURE get_product_info_by_id\n",
                "    @product_id INT, --parameter containing product id to search for\n",
                "    @product_info VARCHAR(50) OUTPUT --parameter to return name and price\n",
                "AS\n",
                "BEGIN\n",
                "    IF @product_id NOT IN (SELECT product_id FROM gs_products) --IF statement to check if provided id is in list of id's from table\n",
                "    BEGIN\n",
                "        SELECT @product_info = 'Please provide a valid Product ID'; --Select statement to return an error message\n",
                "    END\n",
                "    ELSE --ELSE keyword paired with IF. Runs if the condition in the IF statement is false\n",
                "    BEGIN\n",
                "        SELECT @product_info = product_name + ' ' + CAST(list_price AS VARCHAR(10)) --Casting the list_price to a VARCHAR so that it can be concatenated with name and returned as one value\n",
                "        FROM gs_products\n",
                "        WHERE product_id = @product_id; --Condition to filter result to only products where the id matches the parameter\n",
                "    END\n",
                "END;"
            ],
            "metadata": {
                "language": "sql",
                "azdata_cell_guid": "16ab00a5-ec67-46a1-9703-3753c3a2bf17"
            },
            "outputs": [],
            "execution_count": null
        },
        {
            "cell_type": "markdown",
            "source": [
                "The above script seems complicated on the surface, but it is only implementing the tools that we already understand (or will understand soon) into a conditional statement using IF/ELSE. If we call the stored procedure with an acceptable value, like 5, then we should get back the requested information:"
            ],
            "metadata": {
                "language": "sql",
                "azdata_cell_guid": "a4a2e20e-1909-4eaf-bdac-99276272ed72"
            },
            "attachments": {}
        },
        {
            "cell_type": "code",
            "source": [
                "-- Declare a variable to hold the output parameter value\n",
                "DECLARE @product VARCHAR(50);\n",
                "\n",
                "--Execute the procedure\n",
                "EXEC get_product_info_by_id @product_id = 5, @product_info = @product OUTPUT;\n",
                "\n",
                "--Print the result\n",
                "PRINT @product;"
            ],
            "metadata": {
                "language": "sql",
                "azdata_cell_guid": "ae08a626-1d2f-4924-a6c4-f0132228b4ba"
            },
            "outputs": [],
            "execution_count": null
        },
        {
            "cell_type": "markdown",
            "source": [
                "The above cell prints out the requested data with no problem. We are going to execute the same procedure again, but instead of 5, we will use a value that shouldn't work, like 15."
            ],
            "metadata": {
                "language": "sql",
                "azdata_cell_guid": "3bbff470-eca2-46ec-a2c0-da9f69ca7ed7"
            },
            "attachments": {}
        },
        {
            "cell_type": "code",
            "source": [
                "-- Declare a variable to hold the output parameter value\n",
                "DECLARE @product VARCHAR(50);\n",
                "\n",
                "--Execute the procedure\n",
                "EXEC get_product_info_by_id @product_id = 15, @product_info = @product OUTPUT;\n",
                "\n",
                "--Print the result\n",
                "PRINT @product;"
            ],
            "metadata": {
                "language": "sql",
                "azdata_cell_guid": "82895a5c-efa2-4225-b6f9-41ea5c1083cb"
            },
            "outputs": [],
            "execution_count": null
        },
        {
            "cell_type": "markdown",
            "source": [
                "We can see that this time we are getting the error message that we programmed earlier. When designing real applications, the interaction with the database would look something like this for a new customer signing up:\n",
                "\n",
                "1. User fills out sign-up form in app\n",
                "2. Data is stored in an object/variables in the app\n",
                "3. The app connects to the database and passes the user info into parameters of a stored procedure\n",
                "4. The stored procedure runs an insert transaction on all applicable tables, and then returns an indicator of error or success to the app\n",
                "5. The app provides feedback to the user\n",
                "\n",
                "This is a very simplified overview, but the take-away is that we aren't typically just running SQL from an application. We should always call a procedure and pass in any needed information. This is crucial for security and referenctial integrity.\n",
                "\n",
                "## **Functions**\n",
                "\n",
                "Functions in SQL Server are a powerful way to encapsulate reusable logic for calculations and data retrieval. The two types of functions that we will be covering in this course are:\n",
                "\n",
                "- Scalar Functions- Returns a single value\n",
                "- Table-Valued Functions- Returns a table\n",
                "\n",
                "The prupose of functions are to simplify repetitive calculations so that your script is easier to understand. To start, we wil take a complex calculation from a previous assignment and turn it into a scalar function instead. Previously we had to calculate the subtotal of an order by doing (oi.item\\_price - oi.discount\\_amount) \\* oi.quantity. We can delegate this operation to a function so that our SELECT statement looks a bit cleaner. To create a function we will need to learn a few new keywords.\n",
                "\n",
                "- CREATE FUNCTION- Starts the script to create a function\n",
                "- RETURNS- Describes what the function should return\n",
                "- RETURN- The value that is being returned"
            ],
            "metadata": {
                "language": "sql",
                "azdata_cell_guid": "6246f74e-8157-46c7-bb5c-3403d2b87833"
            },
            "attachments": {}
        },
        {
            "cell_type": "code",
            "source": [
                "--Create scalar function to get subtotal\n",
                "CREATE FUNCTION get_subtotal --Define and name the function\n",
                "(\n",
                "    @item_price DECIMAL(8,2), --List necessary parameters seperated by commas\n",
                "    @discount_amount DECIMAL(8,2),\n",
                "    @quantity INT\n",
                ")\n",
                "RETURNS DECIMAL(8,2) --Define the data type to return\n",
                "AS\n",
                "BEGIN\n",
                "    RETURN (@item_price - @discount_amount) * @quantity; --Write the logic of the function\n",
                "END;"
            ],
            "metadata": {
                "azdata_cell_guid": "43f516b4-32a4-4d8a-adfa-9886c35ea6c6",
                "language": "sql"
            },
            "outputs": [],
            "execution_count": null
        },
        {
            "cell_type": "markdown",
            "source": [
                "The above function accepts three parameters, the item price, discount amount, and quantity since that is what it needs to know to calculate the subtotal. Now that the function has been defined, we can call it in a SELECT query just like we have other functions in the past, like GETDATE(). The only difference is that since this is not a built in function, we have to prefix it with dbo (database object)."
            ],
            "metadata": {
                "language": "sql",
                "azdata_cell_guid": "3cd4ac9d-d4ee-4dbb-94a1-f1a13fde3acb"
            },
            "attachments": {}
        },
        {
            "cell_type": "code",
            "source": [
                "--Get order_item info with subtotal\n",
                "SELECT *, dbo.get_subtotal(item_price, discount_amount, quantity) AS subtotal\n",
                "FROM gs_order_items"
            ],
            "metadata": {
                "language": "sql",
                "azdata_cell_guid": "00db7533-0ecd-4844-9db9-f18ffd74c1c1"
            },
            "outputs": [],
            "execution_count": null
        },
        {
            "cell_type": "markdown",
            "source": [
                "We can see from the result in the above cell that we are calculating the subtotal as expected, and our SQL is much easier to read and understand. We call this process _abstraction._ Abstraction is the the process of taking a complex process and disguising it behind something simple. Up to this point we have had to be very verbose in our SQL scripts because we have not had the tools to abstract some of our more tedious processes, but now we can implement tools that make our scripts consice and secure.\n",
                "\n",
                "  \n",
                "\n",
                "Next we will work through putting together a Table-Valued Function, or TVF. In the spirit of abstration, we will continue to build onto the process that we began in the last set of queries. We will create a function that not only calculates the subtotal, but retrieves all of the data from the table when called. In addition, we will also allow a cuser to provide a value so that they can see all orders with a subtotal greater than the provided value. Note the differences in the below query to the scalar one we made earlier."
            ],
            "metadata": {
                "language": "sql",
                "azdata_cell_guid": "ca8689ec-b2fc-44df-bcd3-a978db4b5cff"
            },
            "attachments": {}
        },
        {
            "cell_type": "code",
            "source": [
                "--Get order items with subtotal above a certain amount\n",
                "CREATE FUNCTION get_orders_over_subtotal --Define and name the function\n",
                "(\n",
                "    @subtotal_min DECIMAL(10,2) --Define required parameters\n",
                ")\n",
                "RETURNS TABLE --Specify the return type. For TVF it will always be TABLE\n",
                "RETURN --Specify the return value\n",
                "(\n",
                "    SELECT *, dbo.get_subtotal(item_price, discount_amount, quantity) AS subtotal --Using the function/query we scripted before to get data\n",
                "    FROM gs_order_items\n",
                "    WHERE dbo.get_subtotal(item_price, discount_amount, quantity) > @subtotal_min --Using the function and comparing the result to parameter to filter data\n",
                ")"
            ],
            "metadata": {
                "language": "sql",
                "azdata_cell_guid": "0f1a5680-a313-484d-92c6-d652ca084c2f"
            },
            "outputs": [],
            "execution_count": null
        },
        {
            "cell_type": "markdown",
            "source": [
                "Now we will call the function in a SELECT statement to see the result."
            ],
            "metadata": {
                "language": "sql",
                "azdata_cell_guid": "1b96edb8-3bf5-444f-b33f-20cf866cf94b"
            },
            "attachments": {}
        },
        {
            "cell_type": "code",
            "source": [
                "--SELECT all records from the table returned by the function\n",
                "--Orders with subtotal over 1000\n",
                "SELECT *\n",
                "FROM dbo.get_orders_over_subtotal(1000)"
            ],
            "metadata": {
                "language": "sql",
                "azdata_cell_guid": "29d03e63-e166-4478-9293-28b1f2967f30"
            },
            "outputs": [],
            "execution_count": null
        },
        {
            "cell_type": "markdown",
            "source": [
                "Custom functions that return tables can be extremely useful. If there is a subquery that you have to reference often, it may be better to build a function that secures that data and use that as a data source instead of a subquery. Both kinds of functions are highly custamizable because of the flexibility that parameters offer.\n",
                "\n",
                "**Built in Functions**\n",
                "\n",
                "To assist with your scripting, here are a list of built in functions and their definitions that may be useful moving forward:\n",
                "\n",
                "GETDATE() - Returns the current date and time\n",
                "\n",
                "DATEADD() - Adds a specified number of units to a date\n",
                "\n",
                "DATEDIFF() - Returns the difference between two dates\n",
                "\n",
                "DATEPART() - Returns a specific part of a date (e.g., year, month, day)\n",
                "\n",
                "CAST() - Converts a value from one data type to another\n",
                "\n",
                "CONVERT() - Converts a value from one data type to another with style formatting\n",
                "\n",
                "ISNULL() - Replaces NULL with a specified replacement value\n",
                "\n",
                "COALESCE() - Returns the first non-NULL value in a list of expressions\n",
                "\n",
                "LEN() - Returns the number of characters in a string\n",
                "\n",
                "SUBSTRING() - Extracts a substring from a string starting at a specified position\n",
                "\n",
                "UPPER() - Converts a string to uppercase\n",
                "\n",
                "LOWER() - Converts a string to lowercase\n",
                "\n",
                "TRIM() - Removes leading and trailing spaces from a string\n",
                "\n",
                "ROUND() - Rounds a numeric value to a specified number of decimal places\n",
                "\n",
                "SUM() - Returns the sum of a set of values\n",
                "\n",
                "AVG() - Returns the average of a set of values\n",
                "\n",
                "MIN() - Returns the minimum value in a set\n",
                "\n",
                "MAX() - Returns the maximum value in a set\n",
                "\n",
                "COUNT() - Returns the number of items in a set\n",
                "\n",
                "ROW\\_NUMBER() - Returns the sequential number of a row within a result set\n",
                "\n",
                "RANK() - Returns the rank of each row within the partition of a result set\n",
                "\n",
                "LAG() - Provides access to a row at a specified physical offset before that row\n",
                "\n",
                "LEAD() - Provides access to a row at a specified physical offset after that row\n",
                "\n",
                "PATINDEX() - Returns the starting position of a pattern in a string\n",
                "\n",
                "CHARINDEX() - Returns the position of a specified substring within a string\n",
                "\n",
                "REPLACE() - Replaces all occurrences of a specified substring with another substring\n",
                "\n",
                "## **Views**\n",
                "\n",
                "A view in SQL Server is a virtual table based on the result set of an SQL query. It does not store data physically but provides a way to simplify complex queries and present a consistent, abstracted view of the underlying database schema. Views can be used to encapsulate logic and present data in a specific format without changing the underlying tables. Views have a handful of advantages:\n",
                "\n",
                "1. Simplicity- Simplofy complex queries by encapsulating them in a view.\n",
                "2. Security- Restrict access to specific data by granting permissions on views instead of the underlying tables.\n",
                "3. Consistency- Provide a consistent interface to the data, even if the underlying schema changes\n",
                "4. Reusability- Reuse complex queries across multiple applications or reports\n",
                "\n",
                "We create views by using the CREATE VIEW keywords and then assigning a query to them using AS. In the below cell we will create a simple view that shows customers with the amount of orders they have placed. We will name the view gs\\_vw\\_customer\\_info:"
            ],
            "metadata": {
                "language": "sql",
                "azdata_cell_guid": "c3daca0e-1541-45ab-b37c-1e500151f948"
            },
            "attachments": {}
        },
        {
            "cell_type": "code",
            "source": [
                "--Create view that keeps track of basic customer info and number of orders\n",
                "CREATE VIEW gs_vw_customer_info AS --define view and include vw in name to differentiate from tables\n",
                "SELECT c.first_name, c.last_name, c.email_address,COUNT(o.order_id) AS total_orders\n",
                "FROM gs_customers c\n",
                "JOIN gs_orders o ON c.customer_id = o.customer_id\n",
                "GROUP BY c.first_name, c.last_name, c.email_address"
            ],
            "metadata": {
                "azdata_cell_guid": "fb40b71e-26f2-43d7-b1ab-1da5b3a72a49",
                "language": "sql"
            },
            "outputs": [],
            "execution_count": null
        },
        {
            "cell_type": "markdown",
            "source": [
                "Now that we have created our view, we can access it's data like any other table:"
            ],
            "metadata": {
                "language": "sql",
                "azdata_cell_guid": "74774d8a-06f7-4fe2-b7dd-30ea43adc28b"
            },
            "attachments": {}
        },
        {
            "cell_type": "code",
            "source": [
                "--Select all data from saved view\n",
                "SELECT * FROM gs_vw_customer_info"
            ],
            "metadata": {
                "language": "sql",
                "azdata_cell_guid": "ffe5b92a-1a50-4b08-bed2-9a09fbe4cb6d"
            },
            "outputs": [],
            "execution_count": null
        },
        {
            "cell_type": "markdown",
            "source": [
                "Any SELECT query can be assigned to a view. Views are a great way to abstract complex calculations, subqueries, and window queries when needed. You can even use JOINs when referencing a view if needed. Views may sound similar to Table-Value Functions, and they are. Below are a few key differences:\n",
                "\n",
                "- Parameters: TVFs can accept parameters; views cannot.\n",
                "- Flexibility: TVFs are more flexible due to parameterization.\n",
                "- Usage: Both can be used in SELECT statements, but TVFs can be used more dynamically.\n",
                "- Optimization: TVFs can be optimized together with the calling query, while views provide a static result set.\n",
                "- Definition: TVFs use a CREATE FUNCTION statement, whereas views use a CREATE VIEW statement.\n",
                "\n",
                "## **Triggers**\n",
                "\n",
                "A trigger in SQL Server is a special type of stored procedure that automatically executes or fires when certain events occur in the database. These events can be data manipulation operations such as INSERT, UPDATE, or DELETE on a table or view. Triggers are used to enforce business rules, maintain data integrity, and audit changes in the database. \n",
                "\n",
                "The most common use of triggers is for auditing purposes. We can create special tables to keep track of the changes in our production tables. We program triggers to 'fire' when a change to a production table is detected. We are going to create a simple trigger on the ingredient table that we made for the resteraunt system in lesson 9. Run the below cells to drop those tables if they exist, recreate them, and load them with data so that we are all working with the same info."
            ],
            "metadata": {
                "language": "sql",
                "azdata_cell_guid": "720e9fe8-7253-4016-a280-3f52473be860"
            },
            "attachments": {}
        },
        {
            "cell_type": "code",
            "source": [
                "--Drop resteraunt tables if they exist\n",
                "DROP TABLE IF EXISTS re_recipe\n",
                "DROP TABLE IF EXISTS re_ingredient\n",
                "DROP TABLE IF EXISTS re_menu_item"
            ],
            "metadata": {
                "language": "sql",
                "azdata_cell_guid": "9be55aae-6749-41a0-9eb4-c7767eacdc9d"
            },
            "outputs": [],
            "execution_count": null
        },
        {
            "cell_type": "code",
            "source": [
                "--Recreate tables\n",
                "--Create ingregient table\n",
                "CREATE TABLE re_ingredient (\n",
                "    ingredient_id INT IDENTITY(1,1) PRIMARY KEY,\n",
                "    ingredient_desc VARCHAR(50) NOT NULL,\n",
                "    calories DECIMAL(6,2) DEFAULT 0\n",
                ")\n",
                "\n",
                "--Create menu table\n",
                "CREATE TABLE re_menu_item (\n",
                "    menu_item_id INT IDENTITY(1,1) PRIMARY KEY,\n",
                "    menu_item_desc VARCHAR(60) NOT NULL,\n",
                "    price DECIMAL(4,2) NOT NULL CHECK (price > 0)\n",
                ")\n",
                "\n",
                "--Create recipe table\n",
                "CREATE TABLE re_recipe (\n",
                "    recipe_id INT IDENTITY(1,1) PRIMARY KEY,\n",
                "    ingredient_id INT NOT NULL,\n",
                "    menu_item_id INT NOT NULL,\n",
                "    quantity INT NOT NULL,\n",
                "    CONSTRAINT fk_rec_ing_id_ref_ing_ing_id FOREIGN KEY (ingredient_id) REFERENCES re_ingredient(ingredient_id),\n",
                "    CONSTRAINT fk_rec_men_id_ref_men_men_id FOREIGN KEY (menu_item_id) REFERENCES re_menu_item(menu_item_id)\n",
                ")\n",
                "\n",
                "--Assign index for menu item description\n",
                "CREATE NONCLUSTERED INDEX IDX_menu_item_menu_item_desc ON re_menu_item(menu_item_desc)"
            ],
            "metadata": {
                "language": "sql",
                "azdata_cell_guid": "39375254-2cf4-44ba-ab7e-094fd185b998"
            },
            "outputs": [],
            "execution_count": null
        },
        {
            "cell_type": "code",
            "source": [
                "--Load tables with data\n",
                "--Add data to ingredient\n",
                "INSERT INTO re_ingredient VALUES\n",
                "('Bun',140.00),\n",
                "('Beef Patty', 200.00),\n",
                "('Cheese', 50.00),\n",
                "('Chicken Patty', 150.00),\n",
                "('Buffalo Sauce', 20.00);\n",
                "\n",
                "--Add data to menu\n",
                "INSERT INTO re_menu_item VALUES\n",
                "('Cheeseburger',2.99),\n",
                "('Hamburger',1.75),\n",
                "('Chicken Sandwich',2.99),\n",
                "('Buffalo Chicken Sandwich', 3.19);\n",
                "\n",
                "--Add data to recipe\n",
                "INSERT INTO re_recipe VALUES\n",
                "(1,1,1),\n",
                "(2,1,1),\n",
                "(3,1,1),\n",
                "(1,2,1),\n",
                "(2,2,1),\n",
                "(1,3,1),\n",
                "(4,3,1),\n",
                "(1,4,1),\n",
                "(4,4,1),\n",
                "(5,4,1);"
            ],
            "metadata": {
                "language": "sql",
                "azdata_cell_guid": "3e7cfe73-ab40-456d-b472-b99d3add39e3"
            },
            "outputs": [],
            "execution_count": null
        },
        {
            "cell_type": "markdown",
            "source": [
                "Now that we have some data to work with, we can begin the process of setting up our triggers by creating a table to store data about the changes. Review the below create statement and then run the cell."
            ],
            "metadata": {
                "language": "sql",
                "azdata_cell_guid": "e2fd393d-e8d8-4714-ae6a-c28a9076d283"
            },
            "attachments": {}
        },
        {
            "cell_type": "code",
            "source": [
                "--Create table to log changes to re_menu_item\n",
                "CREATE TABLE re_menu_item_changes (\n",
                "    change_id INT IDENTITY(1,1) PRIMARY KEY,\n",
                "    menu_item_id INT,\n",
                "    change_type VARCHAR(50),\n",
                "    change_date DATETIME DEFAULT GETDATE(), --Automatically get a timestamp of the change\n",
                "    previous_data TEXT, --Store old data in JSON format\n",
                "    new_data TEXT --Store new data in JSON format\n",
                ");"
            ],
            "metadata": {
                "language": "sql",
                "azdata_cell_guid": "42744b59-c1aa-4d4a-850f-ad1c9952c3ba"
            },
            "outputs": [],
            "execution_count": null
        },
        {
            "cell_type": "markdown",
            "source": [
                "Now that we have a place to store the information about the change, we can begin scripting the trigger that will capture that data. One of the functions of the trigger will be to consolidate the existing data and the updated data into a JSON format for easy storage. JSON is a text format that is good for storing a single row of data because the structure is similar to a standard object in programming. For more information about JSON check this link: [What is JSON?](https://www.w3schools.com/js/js_json_intro.asp)"
            ],
            "metadata": {
                "language": "sql",
                "azdata_cell_guid": "19b6991a-b19c-45a0-a56d-217b6a33523f"
            },
            "attachments": {}
        },
        {
            "cell_type": "code",
            "source": [
                "-- Create a DML trigger to log inserted records\n",
                "CREATE TRIGGER trg_log_menu_item_changes_insert --Include insert in the name of the trigger since that is what makes it fire\n",
                "ON re_menu_item --Which table does the trigger apply to\n",
                "AFTER INSERT --Which operation should the trigger fire on\n",
                "AS\n",
                "BEGIN --Statement to run when trigger is fired\n",
                "    INSERT INTO re_menu_item_changes VALUES\n",
                "    (\n",
                "        (\n",
                "            SELECT i.menu_item_id --Get the menu_item_id that is being inserted using a subquery\n",
                "            FROM inserted as i --inserted is a special temporary table that holds the values being inserted into the re_menu_item table\n",
                "        ),\n",
                "        'INSERT', --Specify that this is an insert operation\n",
                "        GETDATE(), --Get the current date\n",
                "        '', --There is no previous data since this is a fresh insertion, so this is blank\n",
                "        (\n",
                "            SELECT --This is a subquery that turns the data being inserted into a JSON format\n",
                "            i.menu_item_id,\n",
                "            i.menu_item_desc,\n",
                "            i.price\n",
                "            FROM inserted as i FOR JSON AUTO\n",
                "        )\n",
                "    );\n",
                "END"
            ],
            "metadata": {
                "language": "sql",
                "azdata_cell_guid": "2d1308dd-522c-4b45-bae7-22136e379be6"
            },
            "outputs": [],
            "execution_count": null
        },
        {
            "cell_type": "markdown",
            "source": [
                "Now that we have a trigger established, we can test it by inserting a new record into the re\\_menu\\_item table:"
            ],
            "metadata": {
                "language": "sql",
                "azdata_cell_guid": "6b3eef94-44f8-4e8b-b7c9-654a75311ec4"
            },
            "attachments": {}
        },
        {
            "cell_type": "code",
            "source": [
                "--Add new record to re_menu_item\n",
                "INSERT INTO re_menu_item VALUES\n",
                "('French Fries',1.99);"
            ],
            "metadata": {
                "language": "sql",
                "azdata_cell_guid": "1d1d2c42-b274-47a1-a243-3571ac03f085"
            },
            "outputs": [],
            "execution_count": null
        },
        {
            "cell_type": "markdown",
            "source": [
                "The new data has been succesfully inserted. Note that there are two (1 row affected) outputs. One for the table we inserted to with our statement, and another for the one that our trigger added to. Let's check our log table to verify that everything worked correctly:"
            ],
            "metadata": {
                "language": "sql",
                "azdata_cell_guid": "87c7502f-1271-4796-a366-3e7401bc1e45"
            },
            "attachments": {}
        },
        {
            "cell_type": "code",
            "source": [
                "SELECT * FROM re_menu_item_changes"
            ],
            "metadata": {
                "language": "sql",
                "azdata_cell_guid": "1823ab8c-a7b3-4baa-b344-d806ae7f6389"
            },
            "outputs": [],
            "execution_count": null
        },
        {
            "cell_type": "markdown",
            "source": [
                "It looks like everything went according to plan! We have:\n",
                "\n",
                "-  a automatically generated change\\_id\n",
                "- the menu\\_item\\_id of the row that was inserted\n",
                "- the type of change is listed as INSERT\n",
                "- the change\\_date shows the time of the insert\n",
                "- there is nothing in previous data since there was no existing data for menu\\_item\\_id 5 before this\n",
                "- most interstingly, we have a JSON preservation of the data that was added to the table. If something ever went wrong we could use this JSON to restore the data.\n",
                "\n",
                "Now that we have a feel for how triggers work, let's make a delete trigger"
            ],
            "metadata": {
                "language": "sql",
                "azdata_cell_guid": "bf3decd7-c180-4e8c-90a4-b4a9199368a0"
            },
            "attachments": {}
        },
        {
            "cell_type": "code",
            "source": [
                "-- Create a DML trigger to log inserted deleted\n",
                "CREATE TRIGGER trg_log_menu_item_changes_delete --include delete in the trigger name\n",
                "ON re_menu_item\n",
                "AFTER DELETE --specify that it should fire when a deletion occurs in the above table\n",
                "AS\n",
                "BEGIN --Statement to run on fire\n",
                "    INSERT INTO re_menu_item_changes VALUES\n",
                "    (\n",
                "        (\n",
                "            SELECT d.menu_item_id\n",
                "            FROM deleted as d --Just like inserted, deleted is a temporary table that holds the data that is about to be removed\n",
                "        ),\n",
                "        'DELETE',\n",
                "        GETDATE(),\n",
                "        (\n",
                "            SELECT \n",
                "            d.menu_item_id,\n",
                "            d.menu_item_desc,\n",
                "            d.price\n",
                "            FROM deleted as d FOR JSON AUTO\n",
                "        ),\n",
                "        '' --We don't have any new data since this is a deletion, so this is blank\n",
                "    )\n",
                "END"
            ],
            "metadata": {
                "azdata_cell_guid": "417a110d-06cb-4547-80f5-e2ca14707170",
                "language": "sql"
            },
            "outputs": [],
            "execution_count": null
        },
        {
            "cell_type": "markdown",
            "source": [
                "Let's go ahead and test our trigger by deleting the data that we just inserted:"
            ],
            "metadata": {
                "language": "sql",
                "azdata_cell_guid": "b6e70633-3819-4f13-9505-7e1f267356ce"
            },
            "attachments": {}
        },
        {
            "cell_type": "code",
            "source": [
                "--Delete data from re_menu_item\n",
                "DELETE FROM re_menu_item\n",
                "WHERE menu_item_id = 5"
            ],
            "metadata": {
                "language": "sql",
                "azdata_cell_guid": "36d57885-683a-4345-96bd-1d54e74ea5e8"
            },
            "outputs": [],
            "execution_count": null
        },
        {
            "cell_type": "markdown",
            "source": [
                "The deletion was succesful, let's check the log table to verify that it captured our changes:"
            ],
            "metadata": {
                "language": "sql",
                "azdata_cell_guid": "dcb6a517-cf6c-4eaf-beff-39b1798b4ec8"
            },
            "attachments": {}
        },
        {
            "cell_type": "code",
            "source": [
                "--Check log\n",
                "SELECT * FROM re_menu_item_changes"
            ],
            "metadata": {
                "language": "sql",
                "azdata_cell_guid": "742ebf4d-98ef-4188-b953-64cdfe8cfd80"
            },
            "outputs": [],
            "execution_count": null
        },
        {
            "cell_type": "markdown",
            "source": [
                "We can see that the deletion operation wrote to the log table as expected. In a later unit I will show you how to restore delete data as needed. Next we are going to write a trigger to log updates to the menu item table. In the instance of an update trigger being fired the old data is stored in the temporary table _deleted_ and the new data is stored in the temporary table _inserted._"
            ],
            "metadata": {
                "language": "sql",
                "azdata_cell_guid": "680c205d-c4b0-4514-acb1-b91b23e9c891"
            },
            "attachments": {}
        },
        {
            "cell_type": "code",
            "source": [
                "-- Create a DML trigger to log updated records\n",
                "CREATE TRIGGER trg_log_menu_item_changes_update --Include update in the name\n",
                "ON re_menu_item\n",
                "AFTER UPDATE --Specify that trigger should fire when update is called on the above table\n",
                "AS\n",
                "BEGIN --Script to run when fired\n",
                "    INSERT INTO re_menu_item_changes VALUES\n",
                "    (\n",
                "        (\n",
                "            SELECT d.menu_item_id\n",
                "            FROM deleted as d\n",
                "        ),\n",
                "        'UPDATE',\n",
                "        GETDATE(),\n",
                "        ( --Select old data by referencing deleted\n",
                "        SELECT \n",
                "            d.menu_item_id,\n",
                "            d.menu_item_desc,\n",
                "            d.price\n",
                "            FROM deleted as d FOR JSON AUTO\n",
                "        ),\n",
                "        ( --Select new data by referencing inserted\n",
                "            SELECT \n",
                "            i.menu_item_id,\n",
                "            i.menu_item_desc,\n",
                "            i.price\n",
                "            FROM inserted as i FOR JSON AUTO\n",
                "        )\n",
                "    )\n",
                "END"
            ],
            "metadata": {
                "language": "sql",
                "azdata_cell_guid": "02577fa7-d968-41e6-b3a0-7345749e55c6"
            },
            "outputs": [],
            "execution_count": null
        },
        {
            "cell_type": "code",
            "source": [
                "--Update a record to test the trigger\n",
                "UPDATE re_menu_item SET price = 3.14\n",
                "WHERE menu_item_id = 1"
            ],
            "metadata": {
                "azdata_cell_guid": "4fb3e797-b5a4-42a1-8b54-3252671dc719",
                "language": "sql"
            },
            "outputs": [],
            "execution_count": null
        },
        {
            "cell_type": "code",
            "source": [
                "--Check the change log to verify the change was recorded\n",
                "SELECT * FROM re_menu_item_changes"
            ],
            "metadata": {
                "language": "sql",
                "azdata_cell_guid": "d84bcba3-1b93-4e4d-b9fd-9f60d7039928"
            },
            "outputs": [],
            "execution_count": null
        },
        {
            "cell_type": "markdown",
            "source": [
                "## **Exercises/Scenario**\n",
                "\n",
                "For this scenario set you will be creating stored procedures, functions, views, and triggers to improve the efficency of the Airport database. The ERD has been included in github for your convenience. <span style=\"font-family: -apple-system, BlinkMacSystemFont, sans-serif; color: var(--vscode-foreground);\">Remember that none of the airport tables have IDENTITY insert for primary keys.</span>\n",
                "\n",
                "1\\. Your first task is to create a log table for the boarding pass table. It should be similar in structure and naming convention to the log table that we made earlier in the notebook."
            ],
            "metadata": {
                "azdata_cell_guid": "f3bb9e62-70f0-4ba2-b35f-c16cff407f00"
            },
            "attachments": {}
        },
        {
            "cell_type": "code",
            "source": [
                "--Your code here\r\n",
                "CREATE TABLE ap_boarding_pass_log (\r\n",
                "    log_id INT PRIMARY KEY,\r\n",
                "    boarding_pass_id INT,\r\n",
                "    customer_id INT,\r\n",
                "    flight_id INT,\r\n",
                "    boarding_pass_number VARCHAR(19),\r\n",
                "    operation_type VARCHAR(10),\r\n",
                "    operation_time DATETIME\r\n",
                ");\r\n",
                "\r\n",
                ""
            ],
            "metadata": {
                "azdata_cell_guid": "2bd5920e-5ec1-49bb-9502-6a0dc7ad0194",
                "language": "sql"
            },
            "outputs": [
                {
                    "output_type": "display_data",
                    "data": {
                        "text/html": "Commands completed successfully."
                    },
                    "metadata": {}
                },
                {
                    "output_type": "display_data",
                    "data": {
                        "text/html": "Total execution time: 00:00:00.086"
                    },
                    "metadata": {}
                }
            ],
            "execution_count": 2
        },
        {
            "cell_type": "markdown",
            "source": [
                "2\\. In the below cell, construct a trigger that is fired upon an update to the boarding pass table. This trigger should capture both the data before and after the update in a JSON format."
            ],
            "metadata": {
                "language": "sql",
                "azdata_cell_guid": "a8f6c9d0-de9b-4c0a-8602-96adc5922bff"
            },
            "attachments": {}
        },
        {
            "cell_type": "code",
            "source": [
                "--Your code here\r\n",
                "CREATE TRIGGER trg_ap_boarding_pass_update\r\n",
                "ON ap_boarding_pass\r\n",
                "AFTER UPDATE\r\n",
                "AS\r\n",
                "BEGIN\r\n",
                "    DECLARE @old_data NVARCHAR(MAX), @new_data NVARCHAR(MAX);\r\n",
                "\r\n",
                "    SELECT @old_data = (\r\n",
                "        SELECT * FROM deleted FOR JSON AUTO\r\n",
                "    );\r\n",
                "\r\n",
                "    SELECT @new_data = (\r\n",
                "        SELECT * FROM inserted FOR JSON AUTO\r\n",
                "    );\r\n",
                "\r\n",
                "    INSERT INTO ap_change_log (entity, old_data, new_data, change_time)\r\n",
                "    VALUES ('ap_boarding_pass', @old_data, @new_data, GETDATE());\r\n",
                "END;\r\n",
                "\r\n",
                ""
            ],
            "metadata": {
                "language": "sql",
                "azdata_cell_guid": "e650e130-f5b4-4f2c-8db1-ea4b2e9a46b8"
            },
            "outputs": [
                {
                    "output_type": "display_data",
                    "data": {
                        "text/html": "Commands completed successfully."
                    },
                    "metadata": {}
                },
                {
                    "output_type": "display_data",
                    "data": {
                        "text/html": "Total execution time: 00:00:00.120"
                    },
                    "metadata": {}
                }
            ],
            "execution_count": 3
        },
        {
            "cell_type": "markdown",
            "source": [
                "3\\. In the below cell, create a stored procedure (get\\_flight\\_data) that returns all of the data in the flight table where destination matches the parameter @input\\_destination."
            ],
            "metadata": {
                "language": "sql",
                "azdata_cell_guid": "b4c700a5-a63c-407d-9440-e7d0af76cf66"
            },
            "attachments": {}
        },
        {
            "cell_type": "code",
            "source": [
                "--Your code here\r\n",
                "CREATE PROCEDURE ap_get_flight_data\r\n",
                "    @input_destination VARCHAR(20)\r\n",
                "AS\r\n",
                "BEGIN\r\n",
                "    SELECT *\r\n",
                "    FROM ap_flight\r\n",
                "    WHERE destination = @input_destination;\r\n",
                "END;\r\n",
                "\r\n",
                ""
            ],
            "metadata": {
                "language": "sql",
                "azdata_cell_guid": "75dbb359-677d-4700-b8f2-5d0da81b0b7e"
            },
            "outputs": [
                {
                    "output_type": "display_data",
                    "data": {
                        "text/html": "Commands completed successfully."
                    },
                    "metadata": {}
                },
                {
                    "output_type": "display_data",
                    "data": {
                        "text/html": "Total execution time: 00:00:00.078"
                    },
                    "metadata": {}
                }
            ],
            "execution_count": 4
        },
        {
            "cell_type": "markdown",
            "source": [
                "4\\. In the below cell, execute the stored procedure you created in the previous cell to return information for flights going to Tokyo."
            ],
            "metadata": {
                "language": "sql",
                "azdata_cell_guid": "995b961b-e656-49cc-aecd-e097944b22b9"
            },
            "attachments": {}
        },
        {
            "cell_type": "code",
            "source": [
                "--Your code here\r\n",
                "EXEC ap_get_flight_data @input_destination = 'Tokyo';\r\n",
                "\r\n",
                ""
            ],
            "metadata": {
                "language": "sql",
                "azdata_cell_guid": "6e14ded9-9373-4aa8-b556-4733b9822268"
            },
            "outputs": [
                {
                    "output_type": "display_data",
                    "data": {
                        "text/html": "(0 rows affected)"
                    },
                    "metadata": {}
                },
                {
                    "output_type": "display_data",
                    "data": {
                        "text/html": "Total execution time: 00:00:00.122"
                    },
                    "metadata": {}
                },
                {
                    "output_type": "execute_result",
                    "metadata": {},
                    "execution_count": 5,
                    "data": {
                        "application/vnd.dataresource+json": {
                            "schema": {
                                "fields": [
                                    {
                                        "name": "flight_id"
                                    },
                                    {
                                        "name": "airline_id"
                                    },
                                    {
                                        "name": "flight_number"
                                    },
                                    {
                                        "name": "destination"
                                    }
                                ]
                            },
                            "data": []
                        },
                        "text/html": [
                            "<table>",
                            "<tr><th>flight_id</th><th>airline_id</th><th>flight_number</th><th>destination</th></tr>",
                            "</table>"
                        ]
                    }
                }
            ],
            "execution_count": 5
        },
        {
            "cell_type": "markdown",
            "source": [
                "5\\. In the below cell, create a view (ap\\_vw\\_airline\\_flights) that shows the airline\\_id, airline\\_name, and total number of flights for each airline."
            ],
            "metadata": {
                "language": "sql",
                "azdata_cell_guid": "95337b7b-d9b2-4ac9-8aae-96aa0177b3aa"
            },
            "attachments": {}
        },
        {
            "cell_type": "code",
            "source": [
                "--Your code here\r\n",
                "CREATE VIEW ap_vw_airline_flights AS\r\n",
                "SELECT \r\n",
                "    a.airline_id, \r\n",
                "    a.airline_name, \r\n",
                "    COUNT(f.flight_id) AS total_flights\r\n",
                "FROM \r\n",
                "    ap_airline a\r\n",
                "JOIN \r\n",
                "    ap_flight f ON a.airline_id = f.airline_id\r\n",
                "GROUP BY \r\n",
                "    a.airline_id, a.airline_name;\r\n",
                "\r\n",
                ""
            ],
            "metadata": {
                "language": "sql",
                "azdata_cell_guid": "ab061f09-15f0-4b81-9bbe-d3d20218a71b"
            },
            "outputs": [
                {
                    "output_type": "display_data",
                    "data": {
                        "text/html": "Commands completed successfully."
                    },
                    "metadata": {}
                },
                {
                    "output_type": "display_data",
                    "data": {
                        "text/html": "Total execution time: 00:00:00.083"
                    },
                    "metadata": {}
                }
            ],
            "execution_count": 6
        },
        {
            "cell_type": "markdown",
            "source": [
                "6\\. In the below cell, run a SELECT query to show all data from the view in the previous cell."
            ],
            "metadata": {
                "language": "sql",
                "azdata_cell_guid": "f908427d-6686-4cee-9767-7e755f370625"
            },
            "attachments": {}
        },
        {
            "cell_type": "code",
            "source": [
                "--Your code here\r\n",
                "SELECT * \r\n",
                "FROM ap_vw_airline_flights;\r\n",
                ""
            ],
            "metadata": {
                "language": "sql",
                "azdata_cell_guid": "162dfaeb-f5d0-4aac-8a79-205a5c786a66"
            },
            "outputs": [
{
    "output_type": "display_data",
    "data": {
        "text/html": "(3 rows affected)"
    },
    "metadata": {}
}, {
    "output_type": "display_data",
    "data": {
        "text/html": "Total execution time: 00:00:00.228"
    },
    "metadata": {}
}, {
    "output_type": "execute_result",
    "metadata": {},
    "execution_count": 7,
    "data": {
        "application/vnd.dataresource+json": {
            "schema": {
                "fields": [
                    {
                        "name": "airline_id"
                    },
                    {
                        "name": "airline_name"
                    },
                    {
                        "name": "total_flights"
                    }
                ]
            },
            "data": [
                {
                    "airline_id": "1",
                    "airline_name": "FlyHigh Airlines",
                    "total_flights": "2"
                },
                {
                    "airline_id": "2",
                    "airline_name": "SkyReach Airways",
                    "total_flights": "2"
                },
                {
                    "airline_id": "3",
                    "airline_name": "Global Wings",
                    "total_flights": "1"
                }
            ]
        },
        "text/html": [
            "<table>",
            "<tr><th>airline_id</th><th>airline_name</th><th>total_flights</th></tr>",
            "<tr><td>1</td><td>FlyHigh Airlines</td><td>2</td></tr>",
            "<tr><td>2</td><td>SkyReach Airways</td><td>2</td></tr>",
            "<tr><td>3</td><td>Global Wings</td><td>1</td></tr>",
            "</table>"
        ]
    }
}
],
            "execution_count": 7
        },
        {
            "cell_type": "markdown",
            "source": [
                "7\\. In the below cell, create a function (get\\_age) that returns the age of a customer when provided the date\\_of\\_birth."
            ],
            "metadata": {
                "language": "sql",
                "azdata_cell_guid": "b93cb62a-836e-4bff-80f8-e01b38a7893c"
            },
            "attachments": {}
        },
        {
            "cell_type": "code",
            "source": [
                "--Your code here\r\n",
                "CREATE FUNCTION ap_get_age (@dob DATE)\r\n",
                "RETURNS INT\r\n",
                "AS\r\n",
                "BEGIN\r\n",
                "    RETURN DATEDIFF(YEAR, @dob, GETDATE());\r\n",
                "END;\r\n",
                "\r\n",
                "\r\n",
                ""
            ],
            "metadata": {
                "language": "sql",
                "azdata_cell_guid": "f57c8cd6-3189-4423-95ae-067a51697077"
            },
            "outputs": [
                {
                    "output_type": "display_data",
                    "data": {
                        "text/html": "Commands completed successfully."
                    },
                    "metadata": {}
                },
                {
                    "output_type": "display_data",
                    "data": {
                        "text/html": "Total execution time: 00:00:00.107"
                    },
                    "metadata": {}
                }
            ],
            "execution_count": 8
        },
        {
            "cell_type": "markdown",
            "source": [
                "8\\. In the below cell, write a select statement to query all information for every customer. Incorporate the function from the above cell to also include their age."
            ],
            "metadata": {
                "language": "sql",
                "azdata_cell_guid": "b0d2ed6e-5ea0-4f32-ba61-5a618f22e589"
            },
            "attachments": {}
        },
        {
            "cell_type": "code",
            "source": [
                "--Your code here\r\n",
                "SELECT \r\n",
                "    c.*, \r\n",
                "    dbo.ap_get_age(c.date_of_birth) AS age\r\n",
                "FROM \r\n",
                "    ap_customer c;\r\n",
                ""
            ],
            "metadata": {
                "language": "sql",
                "azdata_cell_guid": "afc824dd-9d8f-4f8a-a37e-3595cbde38f2"
            },
            "outputs": [
                {
                    "output_type": "error",
                    "ename": "",
                    "evalue": "Msg 208, Level 16, State 1, Line 2\r\nInvalid object name 'customer'.",
                    "traceback": []
                },
                {
                    "output_type": "display_data",
                    "data": {
                        "text/html": "Total execution time: 00:00:00.079"
                    },
                    "metadata": {}
                }
            ],
            "execution_count": 1
        }
    ]
}